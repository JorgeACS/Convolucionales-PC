{
 "cells": [
  {
   "cell_type": "markdown",
   "metadata": {},
   "source": [
    "## Red neuronal convolucional - Cilantro vs Perejil\n",
    "\n",
    "Esta red convolucional tiene la idea de poder distinguir entre imagenes de cilantro y perejil.\n",
    "\n",
    "Una red neuronal convolucional sirve para poder clasificar imagenes. La mecanica principal es aplicar filtros a las imagenes, usando una pequeña matriz (Que en este caso es de 3x3), aplicando dicha matriz a cada pixel de la imagen para asi obtener las caracteristicas principales de la imagen. Una vez hecho esto, aplicamos un proceso de pooling, en el cual solo nos quedamos con las areas mas relevantes de la imagen (en este caso, se utiliza un pooling de 2x2, lo cual significa que en un area de 4 pixeles, solo nos quedaremos con el pixel mas relevante.)"
   ]
  },
  {
   "cell_type": "code",
   "execution_count": null,
   "metadata": {},
   "outputs": [],
   "source": [
    "from keras.models import Sequential\n",
    "from keras.layers import Conv2D, MaxPooling2D, Flatten, Dense\n",
    "\n"
   ]
  },
  {
   "cell_type": "markdown",
   "metadata": {},
   "source": [
    "## Algunos detalles sobre los datos de entrada\n",
    "\n",
    "Se decidio que el tamaño de las imagenes seria de 128x128. De entrada, esto ocasiona que se pierda informacion, ya que practicamente todas las imagenes son mas grandes que estas dimensiones. Sin embargo, dado la capacidad de computo que se tiene, es uno de los sacrificios que se hicieron para poder obtener resultados en un tiempo razonable.\n",
    "\n",
    "Adicionalmente, se eligio aplicar tres convoluciones. Despues de hacer experimentos con una y dos convoluciones, usar tres convoluciones a fin y a cabo termino con los mejores resultados. Cabe destacar que, si se aplican muchas convoluciones, se puede llegar a el punto en donde se perdio demasiada informacion, y por lo tanto la red empezaria a empeorar.\n",
    "\n"
   ]
  },
  {
   "cell_type": "code",
   "execution_count": null,
   "metadata": {
    "collapsed": true
   },
   "outputs": [],
   "source": [
    "\n",
    "image_size = 128\n",
    "classifier = Sequential();\n",
    "# primera convolucion\n",
    "classifier.add(Conv2D(32,(3,3),input_shape=(image_size,image_size,3),activation='relu'))\n",
    "\n",
    "classifier.add(MaxPooling2D(pool_size=(2,2)))\n",
    "\n",
    "# segunda convolucion\n",
    "classifier.add(Conv2D(32,(3,3),activation='relu'))\n",
    "\n",
    "classifier.add(MaxPooling2D(pool_size=(2,2)))\n",
    "\n",
    "# tercera convolucion\n",
    "classifier.add(Conv2D(32,(3,3),activation='relu'))\n",
    "\n",
    "classifier.add(MaxPooling2D(pool_size=(2,2)))\n"
   ]
  },
  {
   "cell_type": "markdown",
   "metadata": {},
   "source": [
    "## Corriendo la red"
   ]
  },
  {
   "cell_type": "code",
   "execution_count": null,
   "metadata": {},
   "outputs": [],
   "source": [
    "\n",
    "\n",
    "classifier.add(Flatten())\n",
    "\n",
    "classifier.add(Dense(units = 256, activation = 'relu'))\n",
    "classifier.add(Dense(units = 1, activation = 'sigmoid'))\n",
    "\n",
    "classifier.compile(optimizer = 'adam', loss = 'binary_crossentropy', metrics = ['accuracy'])\n",
    "\n",
    "from keras.preprocessing.image import ImageDataGenerator\n",
    "\n",
    "train_datagen = ImageDataGenerator(rescale = 1./255,\n",
    "                                   shear_range = 0.2,\n",
    "                                   zoom_range = 0.2,\n",
    "                                   horizontal_flip = True)\n",
    "\n",
    "test_datagen = ImageDataGenerator(rescale = 1./255)\n",
    "\n",
    "training_set = train_datagen.flow_from_directory('dataset/training',\n",
    "                                                 target_size = (image_size, image_size),\n",
    "                                                 batch_size = 32,\n",
    "                                                 class_mode = 'binary')\n",
    "\n",
    "test_set = test_datagen.flow_from_directory('dataset/test',\n",
    "                                            target_size = (image_size, image_size),\n",
    "                                            batch_size = 32,\n",
    "                                            class_mode = 'binary')\n",
    "\n",
    "classifier.fit_generator(training_set,\n",
    "                         steps_per_epoch = 32,\n",
    "                         epochs = 32,\n",
    "                         validation_data = test_set,\n",
    "                         validation_steps = 32)"
   ]
  },
  {
   "cell_type": "markdown",
   "metadata": {},
   "source": [
    "## Resultados del ultimo epoch\n",
    "\n",
    "\n",
    "\n",
    "Epoch 32/32\n",
    "- 60s 2s/step - loss: 0.4423 - acc: 0.7871 - val_loss: 0.8660 - val_acc: 0.5848"
   ]
  }
 ],
 "metadata": {
  "kernelspec": {
   "display_name": "Python 3",
   "language": "python",
   "name": "python3"
  },
  "language_info": {
   "codemirror_mode": {
    "name": "ipython",
    "version": 3
   },
   "file_extension": ".py",
   "mimetype": "text/x-python",
   "name": "python",
   "nbconvert_exporter": "python",
   "pygments_lexer": "ipython3",
   "version": "3.6.2"
  }
 },
 "nbformat": 4,
 "nbformat_minor": 2
}
